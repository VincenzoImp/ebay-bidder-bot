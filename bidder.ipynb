{
 "cells": [
  {
   "cell_type": "code",
   "execution_count": 1,
   "metadata": {},
   "outputs": [],
   "source": [
    "from datetime import datetime\n",
    "from DrissionPage import ChromiumOptions\n",
    "from DrissionPage.common import Settings\n",
    "from DrissionPage import ChromiumPage"
   ]
  },
  {
   "cell_type": "code",
   "execution_count": null,
   "metadata": {},
   "outputs": [],
   "source": [
    "def open_drission_driver(headless=False, no_imgs=True, no_audio=True, singleton_tab_obj=False, options=None):\n",
    "    Settings.singleton_tab_obj = singleton_tab_obj\n",
    "    if options is None:\n",
    "        options = ChromiumOptions()\n",
    "        if no_imgs:\n",
    "            options.no_imgs()\n",
    "        if no_audio:\n",
    "            options.mute()\n",
    "        if headless:\n",
    "            options.headless()\n",
    "    driver = ChromiumPage(addr_or_opts=options)\n",
    "    return driver"
   ]
  },
  {
   "cell_type": "code",
   "execution_count": 4,
   "metadata": {},
   "outputs": [],
   "source": [
    "driver = open_drission_driver()"
   ]
  },
  {
   "cell_type": "code",
   "execution_count": 3,
   "metadata": {},
   "outputs": [
    {
     "data": {
      "text/plain": [
       "True"
      ]
     },
     "execution_count": 3,
     "metadata": {},
     "output_type": "execute_result"
    }
   ],
   "source": [
    "# login to ebay account manually and setup the page of the product to bid in the fisrt tab\n",
    "url = f'https://www.ebay.it'\n",
    "driver.get(url)"
   ]
  },
  {
   "cell_type": "code",
   "execution_count": 5,
   "metadata": {},
   "outputs": [
    {
     "name": "stdout",
     "output_type": "stream",
     "text": [
      "Orario raggiunto (18:19:59)\n"
     ]
    }
   ],
   "source": [
    "# 1 secondi in meno dell'ora di scadenza\n",
    "ora_esecuzione = \"18:19:59\"\n",
    "\n",
    "# Funzione che verifica se è l'orario stabilito\n",
    "def esegui_dopo_orario(ora):\n",
    "    ora = datetime.strptime(ora, \"%H:%M:%S\").time()\n",
    "    obj = driver.actions.move_to('#confirmBid')\n",
    "    while True:\n",
    "        ora_corrente = datetime.now().time()\n",
    "        if ora_corrente >= ora:\n",
    "            obj.click()\n",
    "            print(f\"Orario raggiunto ({ora_corrente.strftime('%H:%M:%S')})\")\n",
    "            break"
   ]
  },
  {
   "cell_type": "code",
   "execution_count": null,
   "metadata": {},
   "outputs": [],
   "source": [
    "# prima di eseguire la funzione verifica se è l'orario stabilito e inserisci l'offerta lasciando da cliccare solo conferma con il bot\n",
    "esegui_dopo_orario(ora_esecuzione)"
   ]
  }
 ],
 "metadata": {
  "kernelspec": {
   "display_name": "venv",
   "language": "python",
   "name": "python3"
  },
  "language_info": {
   "codemirror_mode": {
    "name": "ipython",
    "version": 3
   },
   "file_extension": ".py",
   "mimetype": "text/x-python",
   "name": "python",
   "nbconvert_exporter": "python",
   "pygments_lexer": "ipython3",
   "version": "3.12.3"
  }
 },
 "nbformat": 4,
 "nbformat_minor": 2
}
